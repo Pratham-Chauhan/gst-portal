{
 "cells": [
  {
   "cell_type": "code",
   "execution_count": 2,
   "metadata": {
    "tags": []
   },
   "outputs": [],
   "source": [
    "from time import sleep\n",
    "import io\n",
    "import os\n",
    "import re\n",
    "from selenium import webdriver\n",
    "from selenium.webdriver.common.keys import Keys\n",
    "from selenium.webdriver.support.select import Select\n",
    "from selenium.common.exceptions import NoSuchElementException"
   ]
  },
  {
   "cell_type": "markdown",
   "metadata": {},
   "source": [
    "## Initiate Selenium"
   ]
  },
  {
   "cell_type": "code",
   "execution_count": 3,
   "metadata": {
    "collapsed": true,
    "jupyter": {
     "outputs_hidden": true
    },
    "tags": []
   },
   "outputs": [
    {
     "name": "stderr",
     "output_type": "stream",
     "text": [
      "[WDM] - ====== WebDriver manager ======\n"
     ]
    },
    {
     "name": "stdout",
     "output_type": "stream",
     "text": [
      "Initializing Selenium driver\n",
      "\n",
      "\n",
      "\n"
     ]
    },
    {
     "name": "stderr",
     "output_type": "stream",
     "text": [
      "[WDM] - Current google-chrome version is 105.0.5195\n",
      "[WDM] - Get LATEST driver version for 105.0.5195\n",
      "[WDM] - Driver [C:\\Users\\Pratham\\.wdm\\drivers\\chromedriver\\win32\\105.0.5195.52\\chromedriver.exe] found in cache\n",
      "c:\\users\\pratham\\appdata\\local\\programs\\python\\python37\\lib\\site-packages\\ipykernel_launcher.py:15: DeprecationWarning: executable_path has been deprecated, please pass in a Service object\n",
      "  from ipykernel import kernelapp as app\n"
     ]
    }
   ],
   "source": [
    "\n",
    "#driver = webdriver.Chrome()\n",
    "from selenium import webdriver\n",
    "from selenium.webdriver.chrome.service import Service\n",
    "from webdriver_manager.chrome import ChromeDriverManager\n",
    " \n",
    "# s=Service('C:/Users/Lenovo/Downloads/chromedriver.exe')\n",
    "#driver = webdriver.Chrome(service=s)\n",
    "\n",
    "print('Initializing Selenium driver\\n')\n",
    "options = webdriver.ChromeOptions()\n",
    "user_data_dir = \"%s\\\\chrome_profile\"%(os.getcwd())\n",
    "options.add_argument(r\"user-data-dir=%s\"%user_data_dir)\n",
    "\n",
    "url='https://www.gst.gov.in/'\n",
    "wd = webdriver.Chrome(ChromeDriverManager().install(), options=options)\n",
    "\n",
    "wd.get(url)"
   ]
  },
  {
   "cell_type": "markdown",
   "metadata": {},
   "source": [
    "## Login"
   ]
  },
  {
   "cell_type": "code",
   "execution_count": 228,
   "metadata": {
    "tags": []
   },
   "outputs": [
    {
     "name": "stderr",
     "output_type": "stream",
     "text": [
      "c:\\users\\pratham\\appdata\\local\\programs\\python\\python37\\lib\\site-packages\\selenium\\webdriver\\remote\\webdriver.py:451: UserWarning: find_element_by_* commands are deprecated. Please use find_element() instead\n",
      "  warnings.warn(\"find_element_by_* commands are deprecated. Please use find_element() instead\")\n"
     ]
    },
    {
     "name": "stdout",
     "output_type": "stream",
     "text": [
      "login..\n"
     ]
    },
    {
     "name": "stdin",
     "output_type": "stream",
     "text": [
      "Enter Captcha to login 348248\n"
     ]
    }
   ],
   "source": [
    "wd.get('https://www.gst.gov.in/')\n",
    "login = wd.find_element_by_xpath(\"/html/body/div[1]/header/div[2]/div/div/ul/li\").text\n",
    "if login == \"Login\":\n",
    "    # Login \n",
    "    print('login..')\n",
    "    wd.get(\"https://services.gst.gov.in/services/login\")\n",
    "    sleep(2.0)\n",
    "    username = 'Empliance_2709 '\n",
    "    password = 'Rahul@123'\n",
    "\n",
    "    wd.find_element_by_id('username').send_keys(username)\n",
    "    wd.find_element_by_id('user_pass').send_keys(password)\n",
    "\n",
    "    captcha = input(\"Enter Captcha to login\")\n",
    "    wd.find_element_by_id(\"captcha\").send_keys(captcha)\n",
    "    \n",
    "    wd.find_element_by_css_selector('button.btn').click()\n",
    "    \n",
    "    # Go to Search by PAN\n",
    "    sleep(5.0)    \n",
    "    try:\n",
    "        wd.find_elements_by_css_selector(\"a.btn.btn-primary\")[-1].click()\n",
    "    except: pass\n",
    "    wd.find_elements_by_css_selector(\"li.dropdown.drpdwn.menuList\")[2].click()\n",
    "    wd.find_element_by_link_text('Search by PAN').click()\n",
    "else: \n",
    "    pass"
   ]
  },
  {
   "cell_type": "code",
   "execution_count": 6,
   "metadata": {
    "tags": []
   },
   "outputs": [],
   "source": [
    "# wd.find_elements_by_css_selector(\"li.dropdown.drpdwn.menuList\")[2].click()\n",
    "# wd.find_element_by_link_text('Search by PAN').click()"
   ]
  },
  {
   "cell_type": "code",
   "execution_count": 4,
   "metadata": {
    "tags": []
   },
   "outputs": [],
   "source": [
    "from datetime import datetime\n",
    "\n",
    "Dict1 = {'July': '20/8/2022',\n",
    "        'June': '20/7/2022',\n",
    "        'May': '20/06/2022',\n",
    "        'April': '24/05/2022',\n",
    "        'March': '20/04/2022', \n",
    "        'February': '20/03/2022',\n",
    "        'January': '20/02/2022', \n",
    "        'December': '20/01/2022',\n",
    "        'November': '20/12/2021',\n",
    "        'October': '20/11/2021',\n",
    "        'September': '20/10/2021',\n",
    "        'August': '20/9/2022'}\n",
    "\n",
    "Dict2= {'July': '11/8/2022',\n",
    "        'June': '11/7/2022',\n",
    "        'May': '11/06/2022',\n",
    "        'April': '11/05/2022',\n",
    "        'March': '11/04/2022', \n",
    "        'February': '11/03/2022',\n",
    "        'January': '11/02/2022', \n",
    "        'December': '11/01/2022',\n",
    "        'November': '11/12/2021',\n",
    "        'October': '11/11/2021',\n",
    "        'September': '11/10/2021',\n",
    "        'August': '11/9/2022'}\n",
    "\n",
    "Dict3= {'2020-2021': '12/02/2022', \n",
    "        '2019-2020': '31/03/2021',\n",
    "        '2018-2019': '31/12/2021', \n",
    "        '2017-2018': '12/02/2021'}\n",
    "# 23-12-2021 2020  2019-2020"
   ]
  },
  {
   "cell_type": "markdown",
   "metadata": {},
   "source": [
    "## Search by PAN"
   ]
  },
  {
   "cell_type": "code",
   "execution_count": 78,
   "metadata": {
    "scrolled": true,
    "tags": []
   },
   "outputs": [
    {
     "name": "stderr",
     "output_type": "stream",
     "text": [
      "c:\\users\\pratham\\appdata\\local\\programs\\python\\python37\\lib\\site-packages\\selenium\\webdriver\\remote\\webdriver.py:451: UserWarning: find_element_by_* commands are deprecated. Please use find_element() instead\n",
      "  warnings.warn(\"find_element_by_* commands are deprecated. Please use find_element() instead\")\n"
     ]
    },
    {
     "name": "stdout",
     "output_type": "stream",
     "text": [
      "Number of pages\n"
     ]
    },
    {
     "name": "stdin",
     "output_type": "stream",
     "text": [
      " 1\n"
     ]
    }
   ],
   "source": [
    "k=0\n",
    "#change PAN number\n",
    "pan='AACCG9224F'\n",
    "\n",
    "# wd.get('https://services.gst.gov.in/services/searchtpbypan')\n",
    "# time.sleep(2.0)\n",
    "Pan_search=wd.find_element_by_xpath('//*[@id=\"for_gstin\"]')\n",
    "Pan_search.clear()\n",
    "Pan_search.send_keys(pan)\n",
    "Pan_search.send_keys(Keys.RETURN)\n",
    "\n",
    "'''\n",
    "print(\"Enter the Captcha\")\n",
    "\n",
    "captcha=input()\n",
    "\n",
    "c_input=wd.find_element_by_xpath('//*[@id=\"fo-captcha\"]')\n",
    "c_input.send_keys(captcha)\n",
    "c_input.send_keys(Keys.RETURN)\n",
    "\n",
    "'''\n",
    "submit=wd.find_element_by_xpath('//*[@id=\"lotsearch\"]')\n",
    "sleep(4)\n",
    "\n",
    "tables=[]\n",
    "print(\"Number of pages\")\n",
    "x=input()\n",
    "p=int(x)+2\n",
    "for i in range (0,int(x)):\n",
    "    pan_table=wd.find_element_by_xpath(\"/html/body/div[2]/div[2]/div/div[2]/div/div/form/div[2]/div[2]/div/div/table/tbody\").text\n",
    "    tables.append(pan_table)\n",
    "    sleep(2.0)\n",
    "    \n",
    "    #next page\n",
    "    try: wd.find_element_by_xpath('/html/body/div[2]/div[2]/div/div[2]/div/div[1]/form/div[5]/div[3]/div/div/div/div/div/ul/li['+str(p)+']/a').click()\n",
    "    except: pass\n",
    "    \n",
    "\n"
   ]
  },
  {
   "cell_type": "markdown",
   "metadata": {},
   "source": [
    "## GSTIN "
   ]
  },
  {
   "cell_type": "code",
   "execution_count": 267,
   "metadata": {
    "tags": []
   },
   "outputs": [
    {
     "name": "stdout",
     "output_type": "stream",
     "text": [
      "['36AACCG9224F1ZP', '37AACCG9224F1ZN']\n",
      "Total no of GSTS are : 2\n"
     ]
    },
    {
     "name": "stderr",
     "output_type": "stream",
     "text": [
      "c:\\users\\pratham\\appdata\\local\\programs\\python\\python37\\lib\\site-packages\\ipykernel_launcher.py:7: DeprecationWarning: Call to deprecated function remove_sheet (Use wb.remove(worksheet) or del wb[sheetname]).\n",
      "  import sys\n"
     ]
    }
   ],
   "source": [
    "from openpyxl.styles import Font\n",
    "from openpyxl import Workbook\n",
    "\n",
    "wb = Workbook()\n",
    "wb.create_sheet('Sheet 1')\n",
    "wb.create_sheet('Delayed')\n",
    "wb.remove_sheet(wb['Sheet'])\n",
    "\n",
    "sheet = wb['Sheet 1']\n",
    "sheet2 = wb['Delayed']\n",
    "\n",
    "GSTS=[]\n",
    "i=3\n",
    "\n",
    "sheet.cell(1, 1, 'Search Result based on PAN :'+str(pan))\n",
    "sheet2.cell(1, 1,\"Table of Delayed GSTs\" )\n",
    "sheet.cell(1, 1).font = Font(bold=True)\n",
    "\n",
    "sheet.append(['S. No.', 'GSTIN/UIN', 'GSTIN/UIN Status','State'])\n",
    "sheet2.append(['Table of','GST NO','Financial Year', 'Tax Period','Date of filing','Status','Empliance Check'])\n",
    "    \n",
    "\n",
    "for elem in tables :\n",
    "    rows=elem.split('\\n')\n",
    "    \n",
    "    for elem in rows:\n",
    "        row=elem.split(' ')\n",
    "        \n",
    "        sheet.cell(i, 1, row[0])\n",
    "        sheet.cell(i, 2, row[1])\n",
    "        sheet.cell(i, 3, row[2])\n",
    "        \n",
    "        GSTS.append(row[1])    \n",
    "        try:\n",
    "            sheet.cell(i, 4, ' '.join(row[3:]))\n",
    "        except:\n",
    "            sheet.cell(i, 4, \"-\")\n",
    "        i += 1\n",
    "     \n",
    "# wb.save('my_gst.xlsx')\n",
    "print(GSTS)\n",
    "print(\"Total no of GSTS are :\",len(GSTS))\n"
   ]
  },
  {
   "cell_type": "markdown",
   "metadata": {},
   "source": [
    "# My Scraping"
   ]
  },
  {
   "cell_type": "code",
   "execution_count": 219,
   "metadata": {
    "collapsed": true,
    "jupyter": {
     "outputs_hidden": true
    },
    "tags": []
   },
   "outputs": [
    {
     "name": "stderr",
     "output_type": "stream",
     "text": [
      "c:\\users\\pratham\\appdata\\local\\programs\\python\\python37\\lib\\site-packages\\selenium\\webdriver\\remote\\webdriver.py:491: UserWarning: find_element_by_* commands are deprecated. Please use find_element() instead\n",
      "  warnings.warn(\"find_element_by_* commands are deprecated. Please use find_element() instead\")\n"
     ]
    },
    {
     "ename": "NoSuchElementException",
     "evalue": "Message: no such element: Unable to locate element: {\"method\":\"link text\",\"selector\":\"Place of Business\"}\n  (Session info: chrome=105.0.5195.127)\nStacktrace:\nBacktrace:\n\tOrdinal0 [0x004EDF13+2219795]\n\tOrdinal0 [0x00482841+1779777]\n\tOrdinal0 [0x0039423D+803389]\n\tOrdinal0 [0x003C3025+995365]\n\tOrdinal0 [0x003C31EB+995819]\n\tOrdinal0 [0x003F0F52+1183570]\n\tOrdinal0 [0x003DE844+1108036]\n\tOrdinal0 [0x003EF192+1175954]\n\tOrdinal0 [0x003DE616+1107478]\n\tOrdinal0 [0x003B7F89+950153]\n\tOrdinal0 [0x003B8F56+954198]\n\tGetHandleVerifier [0x007E2CB2+3040210]\n\tGetHandleVerifier [0x007D2BB4+2974420]\n\tGetHandleVerifier [0x00586A0A+565546]\n\tGetHandleVerifier [0x00585680+560544]\n\tOrdinal0 [0x00489A5C+1808988]\n\tOrdinal0 [0x0048E3A8+1827752]\n\tOrdinal0 [0x0048E495+1827989]\n\tOrdinal0 [0x004980A4+1867940]\n\tBaseThreadInitThunk [0x7659344D+18]\n\tRtlInitializeExceptionChain [0x77E19802+99]\n\tRtlInitializeExceptionChain [0x77E197D5+54]\n",
     "output_type": "error",
     "traceback": [
      "\u001b[1;31m---------------------------------------------------------------------------\u001b[0m",
      "\u001b[1;31mNoSuchElementException\u001b[0m                    Traceback (most recent call last)",
      "\u001b[1;32m<ipython-input-219-634c0fae9293>\u001b[0m in \u001b[0;36m<module>\u001b[1;34m\u001b[0m\n\u001b[0;32m      1\u001b[0m \u001b[1;31m# Address\u001b[0m\u001b[1;33m\u001b[0m\u001b[1;33m\u001b[0m\u001b[1;33m\u001b[0m\u001b[0m\n\u001b[1;32m----> 2\u001b[1;33m \u001b[0mwd\u001b[0m\u001b[1;33m.\u001b[0m\u001b[0mfind_element_by_link_text\u001b[0m\u001b[1;33m(\u001b[0m\u001b[1;34m'Place of Business'\u001b[0m\u001b[1;33m)\u001b[0m\u001b[1;33m.\u001b[0m\u001b[0mclick\u001b[0m\u001b[1;33m(\u001b[0m\u001b[1;33m)\u001b[0m\u001b[1;33m\u001b[0m\u001b[1;33m\u001b[0m\u001b[0m\n\u001b[0m\u001b[0;32m      3\u001b[0m \u001b[0maddress\u001b[0m \u001b[1;33m=\u001b[0m \u001b[0mwd\u001b[0m\u001b[1;33m.\u001b[0m\u001b[0mfind_element_by_xpath\u001b[0m\u001b[1;33m(\u001b[0m\u001b[1;34m'//*[@id=\"auth\"]/div/div/div/table/tbody/tr/td[3]'\u001b[0m\u001b[1;33m)\u001b[0m\u001b[1;33m.\u001b[0m\u001b[0mtext\u001b[0m\u001b[1;33m\u001b[0m\u001b[1;33m\u001b[0m\u001b[0m\n\u001b[0;32m      4\u001b[0m \u001b[0maddress\u001b[0m\u001b[1;33m\u001b[0m\u001b[1;33m\u001b[0m\u001b[0m\n",
      "\u001b[1;32mc:\\users\\pratham\\appdata\\local\\programs\\python\\python37\\lib\\site-packages\\selenium\\webdriver\\remote\\webdriver.py\u001b[0m in \u001b[0;36mfind_element_by_link_text\u001b[1;34m(self, link_text)\u001b[0m\n\u001b[0;32m    490\u001b[0m         \"\"\"\n\u001b[0;32m    491\u001b[0m         \u001b[0mwarnings\u001b[0m\u001b[1;33m.\u001b[0m\u001b[0mwarn\u001b[0m\u001b[1;33m(\u001b[0m\u001b[1;34m\"find_element_by_* commands are deprecated. Please use find_element() instead\"\u001b[0m\u001b[1;33m)\u001b[0m\u001b[1;33m\u001b[0m\u001b[1;33m\u001b[0m\u001b[0m\n\u001b[1;32m--> 492\u001b[1;33m         \u001b[1;32mreturn\u001b[0m \u001b[0mself\u001b[0m\u001b[1;33m.\u001b[0m\u001b[0mfind_element\u001b[0m\u001b[1;33m(\u001b[0m\u001b[0mby\u001b[0m\u001b[1;33m=\u001b[0m\u001b[0mBy\u001b[0m\u001b[1;33m.\u001b[0m\u001b[0mLINK_TEXT\u001b[0m\u001b[1;33m,\u001b[0m \u001b[0mvalue\u001b[0m\u001b[1;33m=\u001b[0m\u001b[0mlink_text\u001b[0m\u001b[1;33m)\u001b[0m\u001b[1;33m\u001b[0m\u001b[1;33m\u001b[0m\u001b[0m\n\u001b[0m\u001b[0;32m    493\u001b[0m \u001b[1;33m\u001b[0m\u001b[0m\n\u001b[0;32m    494\u001b[0m     \u001b[1;32mdef\u001b[0m \u001b[0mfind_elements_by_link_text\u001b[0m\u001b[1;33m(\u001b[0m\u001b[0mself\u001b[0m\u001b[1;33m,\u001b[0m \u001b[0mtext\u001b[0m\u001b[1;33m)\u001b[0m\u001b[1;33m:\u001b[0m\u001b[1;33m\u001b[0m\u001b[1;33m\u001b[0m\u001b[0m\n",
      "\u001b[1;32mc:\\users\\pratham\\appdata\\local\\programs\\python\\python37\\lib\\site-packages\\selenium\\webdriver\\remote\\webdriver.py\u001b[0m in \u001b[0;36mfind_element\u001b[1;34m(self, by, value)\u001b[0m\n\u001b[0;32m   1138\u001b[0m         return self.execute(Command.FIND_ELEMENT, {\n\u001b[0;32m   1139\u001b[0m             \u001b[1;34m'using'\u001b[0m\u001b[1;33m:\u001b[0m \u001b[0mby\u001b[0m\u001b[1;33m,\u001b[0m\u001b[1;33m\u001b[0m\u001b[1;33m\u001b[0m\u001b[0m\n\u001b[1;32m-> 1140\u001b[1;33m             'value': value})['value']\n\u001b[0m\u001b[0;32m   1141\u001b[0m \u001b[1;33m\u001b[0m\u001b[0m\n\u001b[0;32m   1142\u001b[0m     \u001b[1;32mdef\u001b[0m \u001b[0mfind_elements\u001b[0m\u001b[1;33m(\u001b[0m\u001b[0mself\u001b[0m\u001b[1;33m,\u001b[0m \u001b[0mby\u001b[0m\u001b[1;33m=\u001b[0m\u001b[0mBy\u001b[0m\u001b[1;33m.\u001b[0m\u001b[0mID\u001b[0m\u001b[1;33m,\u001b[0m \u001b[0mvalue\u001b[0m\u001b[1;33m=\u001b[0m\u001b[1;32mNone\u001b[0m\u001b[1;33m)\u001b[0m\u001b[1;33m:\u001b[0m\u001b[1;33m\u001b[0m\u001b[1;33m\u001b[0m\u001b[0m\n",
      "\u001b[1;32mc:\\users\\pratham\\appdata\\local\\programs\\python\\python37\\lib\\site-packages\\selenium\\webdriver\\remote\\webdriver.py\u001b[0m in \u001b[0;36mexecute\u001b[1;34m(self, driver_command, params)\u001b[0m\n\u001b[0;32m    366\u001b[0m         \u001b[0mresponse\u001b[0m \u001b[1;33m=\u001b[0m \u001b[0mself\u001b[0m\u001b[1;33m.\u001b[0m\u001b[0mcommand_executor\u001b[0m\u001b[1;33m.\u001b[0m\u001b[0mexecute\u001b[0m\u001b[1;33m(\u001b[0m\u001b[0mdriver_command\u001b[0m\u001b[1;33m,\u001b[0m \u001b[0mparams\u001b[0m\u001b[1;33m)\u001b[0m\u001b[1;33m\u001b[0m\u001b[1;33m\u001b[0m\u001b[0m\n\u001b[0;32m    367\u001b[0m         \u001b[1;32mif\u001b[0m \u001b[0mresponse\u001b[0m\u001b[1;33m:\u001b[0m\u001b[1;33m\u001b[0m\u001b[1;33m\u001b[0m\u001b[0m\n\u001b[1;32m--> 368\u001b[1;33m             \u001b[0mself\u001b[0m\u001b[1;33m.\u001b[0m\u001b[0merror_handler\u001b[0m\u001b[1;33m.\u001b[0m\u001b[0mcheck_response\u001b[0m\u001b[1;33m(\u001b[0m\u001b[0mresponse\u001b[0m\u001b[1;33m)\u001b[0m\u001b[1;33m\u001b[0m\u001b[1;33m\u001b[0m\u001b[0m\n\u001b[0m\u001b[0;32m    369\u001b[0m             response['value'] = self._unwrap_value(\n\u001b[0;32m    370\u001b[0m                 response.get('value', None))\n",
      "\u001b[1;32mc:\\users\\pratham\\appdata\\local\\programs\\python\\python37\\lib\\site-packages\\selenium\\webdriver\\remote\\errorhandler.py\u001b[0m in \u001b[0;36mcheck_response\u001b[1;34m(self, response)\u001b[0m\n\u001b[0;32m    238\u001b[0m                 \u001b[0malert_text\u001b[0m \u001b[1;33m=\u001b[0m \u001b[0mvalue\u001b[0m\u001b[1;33m[\u001b[0m\u001b[1;34m'alert'\u001b[0m\u001b[1;33m]\u001b[0m\u001b[1;33m.\u001b[0m\u001b[0mget\u001b[0m\u001b[1;33m(\u001b[0m\u001b[1;34m'text'\u001b[0m\u001b[1;33m)\u001b[0m\u001b[1;33m\u001b[0m\u001b[1;33m\u001b[0m\u001b[0m\n\u001b[0;32m    239\u001b[0m             \u001b[1;32mraise\u001b[0m \u001b[0mexception_class\u001b[0m\u001b[1;33m(\u001b[0m\u001b[0mmessage\u001b[0m\u001b[1;33m,\u001b[0m \u001b[0mscreen\u001b[0m\u001b[1;33m,\u001b[0m \u001b[0mstacktrace\u001b[0m\u001b[1;33m,\u001b[0m \u001b[0malert_text\u001b[0m\u001b[1;33m)\u001b[0m\u001b[1;33m\u001b[0m\u001b[1;33m\u001b[0m\u001b[0m\n\u001b[1;32m--> 240\u001b[1;33m         \u001b[1;32mraise\u001b[0m \u001b[0mexception_class\u001b[0m\u001b[1;33m(\u001b[0m\u001b[0mmessage\u001b[0m\u001b[1;33m,\u001b[0m \u001b[0mscreen\u001b[0m\u001b[1;33m,\u001b[0m \u001b[0mstacktrace\u001b[0m\u001b[1;33m)\u001b[0m\u001b[1;33m\u001b[0m\u001b[1;33m\u001b[0m\u001b[0m\n\u001b[0m\u001b[0;32m    241\u001b[0m \u001b[1;33m\u001b[0m\u001b[0m\n\u001b[0;32m    242\u001b[0m     \u001b[1;32mdef\u001b[0m \u001b[0m_value_or_default\u001b[0m\u001b[1;33m(\u001b[0m\u001b[0mself\u001b[0m\u001b[1;33m,\u001b[0m \u001b[0mobj\u001b[0m\u001b[1;33m,\u001b[0m \u001b[0mkey\u001b[0m\u001b[1;33m,\u001b[0m \u001b[0mdefault\u001b[0m\u001b[1;33m)\u001b[0m\u001b[1;33m:\u001b[0m\u001b[1;33m\u001b[0m\u001b[1;33m\u001b[0m\u001b[0m\n",
      "\u001b[1;31mNoSuchElementException\u001b[0m: Message: no such element: Unable to locate element: {\"method\":\"link text\",\"selector\":\"Place of Business\"}\n  (Session info: chrome=105.0.5195.127)\nStacktrace:\nBacktrace:\n\tOrdinal0 [0x004EDF13+2219795]\n\tOrdinal0 [0x00482841+1779777]\n\tOrdinal0 [0x0039423D+803389]\n\tOrdinal0 [0x003C3025+995365]\n\tOrdinal0 [0x003C31EB+995819]\n\tOrdinal0 [0x003F0F52+1183570]\n\tOrdinal0 [0x003DE844+1108036]\n\tOrdinal0 [0x003EF192+1175954]\n\tOrdinal0 [0x003DE616+1107478]\n\tOrdinal0 [0x003B7F89+950153]\n\tOrdinal0 [0x003B8F56+954198]\n\tGetHandleVerifier [0x007E2CB2+3040210]\n\tGetHandleVerifier [0x007D2BB4+2974420]\n\tGetHandleVerifier [0x00586A0A+565546]\n\tGetHandleVerifier [0x00585680+560544]\n\tOrdinal0 [0x00489A5C+1808988]\n\tOrdinal0 [0x0048E3A8+1827752]\n\tOrdinal0 [0x0048E495+1827989]\n\tOrdinal0 [0x004980A4+1867940]\n\tBaseThreadInitThunk [0x7659344D+18]\n\tRtlInitializeExceptionChain [0x77E19802+99]\n\tRtlInitializeExceptionChain [0x77E197D5+54]\n"
     ]
    }
   ],
   "source": [
    "# # Address\n",
    "# wd.find_element_by_link_text('Place of Business').click()\n",
    "# address = wd.find_element_by_xpath('//*[@id=\"auth\"]/div/div/div/table/tbody/tr/td[3]').text\n",
    "# address"
   ]
  },
  {
   "cell_type": "code",
   "execution_count": 266,
   "metadata": {
    "tags": []
   },
   "outputs": [],
   "source": [
    "def extract_info1():\n",
    "    # Search Result based on GSTIN/UIN  \n",
    "    res = wd.find_element_by_xpath('//*[@id=\"lottable\"]/div[1]/div[1]/h4').text\n",
    "    append_bold(sheet, res)\n",
    "    \n",
    "    table1 = wd.find_element_by_id(\"partners\").find_element_by_class_name(\"tbl-format\")\n",
    "    t_rows= table1.find_elements_by_class_name(\"row\")\n",
    "\n",
    "\n",
    "    hd1 = t_rows[0].text.split('\\n')\n",
    "    for k in range(len(hd1)):\n",
    "        if hd1[k] == 'Date of Registration':\n",
    "            print(hd1[k+1])\n",
    "            sheet.append([\"Date of Registration\", hd1[k+1]])\n",
    "\n",
    "    hd2 = t_rows[1].text.split('\\n')\n",
    "    for k in range(len(hd2)):\n",
    "        if hd2[k] == 'GSTIN / UIN Status':\n",
    "            print(hd2[k+1])\n",
    "            sheet.append([\"GSTIN / UIN Status\", hd2[k+1]])\n"
   ]
  },
  {
   "cell_type": "code",
   "execution_count": 232,
   "metadata": {
    "jupyter": {
     "source_hidden": true
    },
    "tags": []
   },
   "outputs": [],
   "source": [
    "def extract_info2():\n",
    "    # Name of the Proprietor / Director(s) / Promoter(s)\n",
    "    append_bold(sheet, 'Name of the Proprietor / Director(s) / Promoter(s)')\n",
    "    proprietors = wd.find_element_by_xpath('//*[@id=\"collapseOne\"]/div').text.split('\\n')\n",
    "\n",
    "    for p in range(len(proprietors)):\n",
    "        sheet.append([p+1, proprietors[p]])\n",
    "\n",
    "    # Nature of Business Activities\n",
    "    business = wd.find_element_by_id('collapseTwo').text.split('\\n')\n",
    "    append_bold(sheet, 'Nature of Business Activities')\n",
    "\n",
    "    for p in range(len(business)):\n",
    "        sheet.append([p+1, business[p]])\n",
    "\n",
    "    # Nature Of Core Business Activity\n",
    "    core_business = wd.find_element_by_id('ntcrbs').text.split('\\n')\n",
    "    append_bold(sheet, 'Nature Of Core Business Activity')\n",
    "\n",
    "    for p in range(len(core_business)):\n",
    "        sheet.append([p+1, core_business[p]])\n",
    "    \n"
   ]
  },
  {
   "cell_type": "code",
   "execution_count": 254,
   "metadata": {
    "jupyter": {
     "source_hidden": true
    },
    "tags": []
   },
   "outputs": [],
   "source": [
    "def extract_filing_table():\n",
    "    # Filing Table\n",
    "    xpath_ = '//*[@id=\"partners\"]/div[7]/div[2]/div[%s]/div/table/tbody'\n",
    "\n",
    "    for i in range(1, 5):\n",
    "        print(i)\n",
    "        try:\n",
    "            hd_x = wd.find_element_by_xpath('//*[@id=\"partners\"]/div[7]/div[2]/div[%s]/div/h4'%i).text\n",
    "        except: return\n",
    "        print(hd_x)\n",
    "\n",
    "        append_bold(sheet, hd_x)\n",
    "        sheet.append(['Table of','GST NO','Financial Year', 'Tax Period','Date of filing','Status','Empliance Check'])\n",
    "\n",
    "        for _ in wd.find_element_by_xpath(xpath_%(i)).text.split('\\n'):\n",
    "            d = [hd_x.split(' ')[-1], GST, *_.split(' ')]\n",
    "            print(d)\n",
    "            sheet.append(d)\n",
    "\n",
    "    # wb.save('my_gst.xlsx')"
   ]
  },
  {
   "cell_type": "code",
   "execution_count": 259,
   "metadata": {
    "jupyter": {
     "source_hidden": true
    },
    "tags": []
   },
   "outputs": [],
   "source": [
    "def extract_liability():\n",
    "    append_bold(sheet, \"Liability table\")\n",
    "\n",
    "    xpth_l = '//*[@id=\"partners\"]/div[7]/div[2]/div/div/div[%s]/table'\n",
    "    for i in [2,3]:\n",
    "        print(i)\n",
    "        sheet.append([])\n",
    "        try:\n",
    "            hh = wd.find_element_by_xpath('//*[@id=\"partners\"]/div[7]/div[2]/div/div/div[%s]/h4'%i).text\n",
    "        except: continue\n",
    "    \n",
    "        sheet.append([hh])\n",
    "        sheet.append([\"Financial Year\", \"Tax Period\", \"% of Liability paid\"])\n",
    "\n",
    "        liability = wd.find_element_by_xpath(xpth_l%(i)).text.split('\\n')[1:]\n",
    "        for lb in liability:\n",
    "            print(lb.split(' '))\n",
    "            sheet.append(lb.split(' '))\n",
    "\n",
    "    # wb.save('my_gst.xlsx')"
   ]
  },
  {
   "cell_type": "code",
   "execution_count": 248,
   "metadata": {
    "jupyter": {
     "source_hidden": true
    },
    "tags": []
   },
   "outputs": [],
   "source": [
    "def extract_goods_services():\n",
    "    # Dealing In Goods and Services\n",
    "    goods_service = wd.find_element_by_xpath('//*[@id=\"partners\"]/div[2]/div/div/div[1]/table/tbody')\n",
    "    append_bold(sheet, 'Dealing In Goods and Services')\n",
    "    m = sheet.max_row\n",
    "    sheet.cell(m+1, 1, 'Goods')\n",
    "    sheet.cell(m+1, 1).font = Font(bold=True)\n",
    "    \n",
    "    sheet.cell(m+1, 3, 'Services')\n",
    "    sheet.cell(m+1, 3).font = Font(bold=True)\n",
    "\n",
    "    for tr in goods_service.find_elements_by_tag_name('tr'):\n",
    "        d = []\n",
    "        for _ in tr.find_elements_by_tag_name('td'):\n",
    "            d.append(_.text)\n",
    "        print(d)\n",
    "        sheet.append(d)\n",
    "    \n"
   ]
  },
  {
   "cell_type": "code",
   "execution_count": 268,
   "metadata": {
    "jupyter": {
     "source_hidden": true
    },
    "tags": []
   },
   "outputs": [
    {
     "name": "stdout",
     "output_type": "stream",
     "text": [
      "GSTIN 36AACCG9224F1ZP\n",
      "01/07/2017\n",
      "Active\n",
      "1\n",
      "Filing details for GSTR3B\n",
      "['GSTR3B', '36AACCG9224F1ZP', '2022-2023', 'July', '20/08/2022', 'Filed']\n",
      "['GSTR3B', '36AACCG9224F1ZP', '2022-2023', 'June', '20/07/2022', 'Filed']\n",
      "['GSTR3B', '36AACCG9224F1ZP', '2022-2023', 'May', '20/06/2022', 'Filed']\n",
      "['GSTR3B', '36AACCG9224F1ZP', '2022-2023', 'April', '19/05/2022', 'Filed']\n",
      "['GSTR3B', '36AACCG9224F1ZP', '2021-2022', 'March', '19/04/2022', 'Filed']\n",
      "['GSTR3B', '36AACCG9224F1ZP', '2021-2022', 'February', '16/03/2022', 'Filed']\n",
      "['GSTR3B', '36AACCG9224F1ZP', '2021-2022', 'January', '18/02/2022', 'Filed']\n",
      "['GSTR3B', '36AACCG9224F1ZP', '2021-2022', 'December', '20/01/2022', 'Filed']\n",
      "['GSTR3B', '36AACCG9224F1ZP', '2021-2022', 'November', '20/12/2021', 'Filed']\n",
      "['GSTR3B', '36AACCG9224F1ZP', '2021-2022', 'October', '19/11/2021', 'Filed']\n",
      "2\n",
      "Filing details for GSTR1\n",
      "['GSTR1', '36AACCG9224F1ZP', '2022-2023', 'August', '08/09/2022', 'Filed']\n",
      "['GSTR1', '36AACCG9224F1ZP', '2022-2023', 'July', '11/08/2022', 'Filed']\n",
      "['GSTR1', '36AACCG9224F1ZP', '2022-2023', 'June', '11/07/2022', 'Filed']\n",
      "['GSTR1', '36AACCG9224F1ZP', '2022-2023', 'May', '10/06/2022', 'Filed']\n",
      "['GSTR1', '36AACCG9224F1ZP', '2022-2023', 'April', '11/05/2022', 'Filed']\n",
      "['GSTR1', '36AACCG9224F1ZP', '2021-2022', 'March', '11/04/2022', 'Filed']\n",
      "['GSTR1', '36AACCG9224F1ZP', '2021-2022', 'February', '11/03/2022', 'Filed']\n",
      "['GSTR1', '36AACCG9224F1ZP', '2021-2022', 'January', '11/02/2022', 'Filed']\n",
      "['GSTR1', '36AACCG9224F1ZP', '2021-2022', 'December', '11/01/2022', 'Filed']\n",
      "['GSTR1', '36AACCG9224F1ZP', '2021-2022', 'November', '10/12/2021', 'Filed']\n",
      "3\n",
      "Filing details for GSTR9\n",
      "['GSTR9', '36AACCG9224F1ZP', '2020-2021', 'Annual', '23/02/2022', 'Filed']\n",
      "['GSTR9', '36AACCG9224F1ZP', '2019-2020', 'Annual', '28/02/2021', 'Filed']\n",
      "['GSTR9', '36AACCG9224F1ZP', '2018-2019', 'Annual', '23/10/2020', 'Filed']\n",
      "['GSTR9', '36AACCG9224F1ZP', '2017-2018', 'Annual', '30/01/2020', 'Filed']\n",
      "4\n",
      "Filing details for GSTR9C\n",
      "['GSTR9C', '36AACCG9224F1ZP', '2020-2021', 'Annual', '25/02/2022', 'Filed']\n",
      "['GSTR9C', '36AACCG9224F1ZP', '2019-2020', 'Annual', '28/02/2021', 'Filed']\n",
      "['GSTR9C', '36AACCG9224F1ZP', '2018-2019', 'Annual', '10/12/2020', 'Filed']\n",
      "['GSTR9C', '36AACCG9224F1ZP', '2017-2018', 'Annual', '31/01/2020', 'Filed']\n",
      "2\n",
      "['2022-23', 'July', '102%']\n",
      "['2022-23', 'June', '101%']\n",
      "['2022-23', 'May', '100%']\n",
      "['2022-23', 'April', '100%']\n",
      "['2022-23', 'Total', '91%']\n",
      "3\n",
      "['2021-22', 'March', '100%']\n",
      "['2021-22', 'February', '100%']\n",
      "['2021-22', 'January', '100%']\n",
      "['2021-22', 'December', '135%']\n",
      "['2021-22', 'November', '161%']\n",
      "['2021-22', 'October', '82%']\n",
      "['2021-22', 'September', '100%']\n",
      "['2021-22', 'August', '103%']\n",
      "['2021-22', 'July', '99%']\n",
      "['2021-22', 'June', '100%']\n",
      "['2021-22', 'May', '130%']\n",
      "['2021-22', 'April', '76%']\n",
      "['2021-22', 'Total', '101%']\n",
      "['HSN', 'Description', 'HSN', 'Description']\n",
      "['', '', '00440406', 'RENTING OF IMMOVABLE PROPERTY SERVICES']\n",
      "GSTIN 37AACCG9224F1ZN\n",
      "01/07/2017\n",
      "Inactive\n",
      "1\n",
      "2\n",
      "3\n",
      "['HSN', 'Description', 'HSN', 'Description']\n",
      "['NA', 'NA', 'NA', 'NA']\n"
     ]
    }
   ],
   "source": [
    "def append_bold(sheet, text):\n",
    "    m = sheet.max_row\n",
    "    sheet.cell(m+2, 1, text)\n",
    "    sheet.cell(m+2, 1).font = Font(bold=True)\n",
    "\n",
    "# Go to search by GSTIN\n",
    "wd.find_elements_by_css_selector(\"li.dropdown.drpdwn.menuList\")[2].click()\n",
    "wd.find_element_by_link_text('Search by GSTIN/UIN').click()\n",
    "sleep(2.0)\n",
    "\n",
    "\n",
    "for GST in GSTS[:]:\n",
    "    print('GSTIN', GST)\n",
    "    f1 = wd.find_element_by_id(\"for_gstin\")\n",
    "    wd.execute_script(\"return arguments[0].scrollIntoView();\", f1)\n",
    "    f1.clear()\n",
    "    f1.send_keys(GST)\n",
    "    wd.find_element_by_css_selector('button.btn').click()\n",
    "    sleep(4.0)\n",
    "    \n",
    "    \n",
    "    # Legal Name of Bussiness\n",
    "    sheet.cell(1,2,\"Legal Name of Business\")\n",
    "    sheet.cell(1,2).font = Font(bold=True)\n",
    "    legal_name=wd.find_element_by_xpath('//*[@id=\"lottable\"]/div[2]/div[1]/div').text.split('\\n')[1]\n",
    "    sheet.cell(1,3,legal_name)\n",
    "    \n",
    "    # EXTRACTING INFO\n",
    "    extract_info1()\n",
    "    extract_info2()\n",
    "    \n",
    "    # Click on Filing Table\n",
    "    Filing_table=wd.find_element_by_xpath('//*[@id=\"filingTable\"]')\n",
    "    wd.execute_script(\"return arguments[0].scrollIntoView();\", Filing_table)\n",
    "    Filing_table.click()\n",
    "    sleep(2.0) \n",
    "\n",
    "    extract_filing_table()\n",
    "    \n",
    "    # click on liability paid percentage\n",
    "    liabity_element = wd.find_element_by_id('liabilitypaidpercentage')\n",
    "    wd.execute_script(\"return arguments[0].scrollIntoView();\", liabity_element)\n",
    "    liabity_element.click()\n",
    "    sleep(2.0)\n",
    "    \n",
    "    extract_liability()\n",
    "    \n",
    "    extract_goods_services()\n",
    "    \n",
    "    "
   ]
  },
  {
   "cell_type": "code",
   "execution_count": 269,
   "metadata": {},
   "outputs": [],
   "source": [
    "wb.save('my_gst.xlsx')"
   ]
  },
  {
   "cell_type": "code",
   "execution_count": 7,
   "metadata": {
    "collapsed": true,
    "jupyter": {
     "outputs_hidden": true,
     "source_hidden": true
    },
    "tags": []
   },
   "outputs": [
    {
     "name": "stdout",
     "output_type": "stream",
     "text": [
      "1\n",
      "Enter the Captcha\n"
     ]
    },
    {
     "name": "stderr",
     "output_type": "stream",
     "text": [
      "C:\\Users\\AKSHAY~1\\AppData\\Local\\Temp/ipykernel_16964/4093608060.py:13: DeprecationWarning: find_element_by_xpath is deprecated. Please use find_element(by=By.XPATH, value=xpath) instead\n",
      "  c_input=wd.find_element_by_xpath('//*[@id=\"fo-captcha\"]')\n",
      "C:\\Users\\AKSHAY~1\\AppData\\Local\\Temp/ipykernel_16964/4093608060.py:18: DeprecationWarning: find_element_by_xpath is deprecated. Please use find_element(by=By.XPATH, value=xpath) instead\n",
      "  E_date=wd.find_element_by_xpath('//*[@id=\"lottable\"]/div[2]/div[1]/div/div[3]')\n",
      "C:\\Users\\AKSHAY~1\\AppData\\Local\\Temp/ipykernel_16964/4093608060.py:30: DeprecationWarning: find_element_by_xpath is deprecated. Please use find_element(by=By.XPATH, value=xpath) instead\n",
      "  Main_head=wd.find_element_by_xpath('//*[@id=\"lottable\"]/div[1]/div[1]/h4')\n",
      "C:\\Users\\AKSHAY~1\\AppData\\Local\\Temp/ipykernel_16964/4093608060.py:32: DeprecationWarning: find_element_by_xpath is deprecated. Please use find_element(by=By.XPATH, value=xpath) instead\n",
      "  staus_in=wd.find_element_by_xpath('//*[@id=\"lottable\"]/div[2]/div[2]/div/div[2]')\n",
      "C:\\Users\\AKSHAY~1\\AppData\\Local\\Temp/ipykernel_16964/4093608060.py:35: DeprecationWarning: find_element_by_xpath is deprecated. Please use find_element(by=By.XPATH, value=xpath) instead\n",
      "  E_date=wd.find_element_by_xpath('//*[@id=\"lottable\"]/div[2]/div[1]/div/div[3]')\n",
      "C:\\Users\\AKSHAY~1\\AppData\\Local\\Temp/ipykernel_16964/4093608060.py:38: DeprecationWarning: find_element_by_xpath is deprecated. Please use find_element(by=By.XPATH, value=xpath) instead\n",
      "  P_P_Bus=wd.find_element_by_xpath('//*[@id=\"lottable\"]/div[2]/div[3]/div/div[3]')\n",
      "C:\\Users\\AKSHAY~1\\AppData\\Local\\Temp/ipykernel_16964/4093608060.py:41: DeprecationWarning: find_element_by_xpath is deprecated. Please use find_element(by=By.XPATH, value=xpath) instead\n",
      "  Filing_table=wd.find_element_by_xpath('//*[@id=\"filingTable\"]')\n",
      "C:\\Users\\AKSHAY~1\\AppData\\Local\\Temp/ipykernel_16964/4093608060.py:61: DeprecationWarning: find_element_by_xpath is deprecated. Please use find_element(by=By.XPATH, value=xpath) instead\n",
      "  table1=wd.find_element_by_xpath('//*[@id=\"lottable\"]/div[7]/div[2]/div[1]/div/table/tbody')\n",
      "C:\\Users\\AKSHAY~1\\AppData\\Local\\Temp/ipykernel_16964/4093608060.py:66: DeprecationWarning: find_element_by_xpath is deprecated. Please use find_element(by=By.XPATH, value=xpath) instead\n",
      "  h_t1=wd.find_element_by_xpath('//*[@id=\"lottable\"]/div[7]/div[2]/div[1]/div/h4')\n",
      "C:\\Users\\AKSHAY~1\\AppData\\Local\\Temp/ipykernel_16964/4093608060.py:117: DeprecationWarning: find_element_by_xpath is deprecated. Please use find_element(by=By.XPATH, value=xpath) instead\n",
      "  table2=wd.find_element_by_xpath('//*[@id=\"lottable\"]/div[7]/div[2]/div[2]/div/table/tbody')\n"
     ]
    },
    {
     "name": "stdout",
     "output_type": "stream",
     "text": [
      "Table of GSTR3B exist for the given GST number\n",
      "Table data written in excel\n",
      "Table of GSTR-1/IFF exist for the given GST number\n"
     ]
    },
    {
     "name": "stderr",
     "output_type": "stream",
     "text": [
      "C:\\Users\\AKSHAY~1\\AppData\\Local\\Temp/ipykernel_16964/4093608060.py:120: DeprecationWarning: find_element_by_xpath is deprecated. Please use find_element(by=By.XPATH, value=xpath) instead\n",
      "  h_t2=wd.find_element_by_xpath('//*[@id=\"lottable\"]/div[7]/div[2]/div[2]/div/h4')\n",
      "C:\\Users\\AKSHAY~1\\AppData\\Local\\Temp/ipykernel_16964/4093608060.py:172: DeprecationWarning: find_element_by_xpath is deprecated. Please use find_element(by=By.XPATH, value=xpath) instead\n",
      "  table3=wd.find_element_by_xpath('//*[@id=\"lottable\"]/div[7]/div[2]/div[3]/div/table/tbody')\n",
      "C:\\Users\\AKSHAY~1\\AppData\\Local\\Temp/ipykernel_16964/4093608060.py:176: DeprecationWarning: find_element_by_xpath is deprecated. Please use find_element(by=By.XPATH, value=xpath) instead\n",
      "  h_t3=wd.find_element_by_xpath('//*[@id=\"lottable\"]/div[7]/div[2]/div[3]/div/h4')\n"
     ]
    },
    {
     "name": "stdout",
     "output_type": "stream",
     "text": [
      "Table data written in excel\n",
      "Table of GSTR9 exist for the given GST number\n",
      "heading inserted\n",
      "Data inserted\n",
      "Data checked\n",
      "date fomats set\n",
      "delayed entry made\n",
      "Data inserted\n",
      "Data checked\n",
      "date fomats set\n",
      "On Time entry made\n",
      "Data inserted\n",
      "Data checked\n",
      "date fomats set\n",
      "On Time entry made\n",
      "Data inserted\n",
      "Data checked\n",
      "date fomats set\n",
      "On Time entry made\n",
      "Table data written in excel\n",
      "Table of GSTR9C exist for the given GST number\n"
     ]
    },
    {
     "name": "stderr",
     "output_type": "stream",
     "text": [
      "C:\\Users\\AKSHAY~1\\AppData\\Local\\Temp/ipykernel_16964/4093608060.py:233: DeprecationWarning: find_element_by_xpath is deprecated. Please use find_element(by=By.XPATH, value=xpath) instead\n",
      "  table4=wd.find_element_by_xpath('//*[@id=\"lottable\"]/div[7]/div[2]/div[4]/div/table/tbody')\n",
      "C:\\Users\\AKSHAY~1\\AppData\\Local\\Temp/ipykernel_16964/4093608060.py:237: DeprecationWarning: find_element_by_xpath is deprecated. Please use find_element(by=By.XPATH, value=xpath) instead\n",
      "  h_t4=wd.find_element_by_xpath('//*[@id=\"lottable\"]/div[7]/div[2]/div[4]/div/h4')\n"
     ]
    },
    {
     "name": "stdout",
     "output_type": "stream",
     "text": [
      "Table data written in excel\n",
      "2\n",
      "Enter the Captcha\n",
      "Table of GSTR3B does not exist for the given GST number\n",
      "Table of GSTR-1/IFF does not exist for the given GST number\n",
      "Table of GSTR9 does not exist for the given GST number\n",
      "Table of GSTR9C does not exist for the given GST number\n",
      "extraction is complete\n"
     ]
    }
   ],
   "source": [
    "i=i+2\n",
    "g=1\n",
    "\n",
    "wd.find_elements_by_css_selector(\"li.dropdown.drpdwn.menuList\")[2].click()\n",
    "wd.find_element_by_link_text('Search by GSTIN/UIN').click()\n",
    "\n",
    "\n",
    "for GST in GSTS:\n",
    "    print(g)\n",
    "    g=g+1\n",
    "    \n",
    "    f1 = wd.find_element_by_id(\"for_gstin\")\n",
    "    f1.clear()\n",
    "    f1.send_keys(GST)\n",
    "    wd.find_element_by_css_selector('button.btn').click()\n",
    "    \n",
    "\n",
    "    E_date=wd.find_element_by_xpath('//*[@id=\"lottable\"]/div[2]/div[1]/div/div[3]')\n",
    "    E_date.text\n",
    "\n",
    "\n",
    "    try:\n",
    "        Main_head=wd.find_element_by_xpath('//*[@id=\"lottable\"]/div[1]/div[1]/h4')\n",
    "        Main_head.text\n",
    "        staus_in=wd.find_element_by_xpath('//*[@id=\"lottable\"]/div[2]/div[2]/div/div[2]')\n",
    "        staus_in.text\n",
    "        Main_heads=Main_head.text\n",
    "        E_date=wd.find_element_by_xpath('//*[@id=\"lottable\"]/div[2]/div[1]/div/div[3]')\n",
    "        E_date.text\n",
    "        E_dates=E_date.text\n",
    "        P_P_Bus=wd.find_element_by_xpath('//*[@id=\"lottable\"]/div[2]/div[3]/div/div[3]')\n",
    "        P_P_Bus.text\n",
    "        P_P_Buss=P_P_Bus.text\n",
    "        \n",
    "        \n",
    "\n",
    "        i=i+2\n",
    "        sheet.write(i, 0, str(Main_heads))\n",
    "        i=i+1\n",
    "        ed=E_dates.split('\\n')\n",
    "        sheet.write(i, 0, str(ed[0]))\n",
    "        sheet.write(i, 1, str(ed[1]))\n",
    "        i=i+1\n",
    "        sheet.write(i, 0, str(staus_in.text))\n",
    "        i=i+1\n",
    "        sheet.write(i, 0, str(P_P_Buss))\n",
    "        i=i+2\n",
    "\n",
    "    except:\n",
    "        print('start the program again')\n",
    "    try:\n",
    "\n",
    "        table1=wd.find_element_by_xpath('//*[@id=\"lottable\"]/div[7]/div[2]/div[1]/div/table/tbody')\n",
    "        t_text1=table1.text\n",
    "        print('Table of GSTR3B exist for the given GST number')\n",
    "\n",
    "\n",
    "        h_t1=wd.find_element_by_xpath('//*[@id=\"lottable\"]/div[7]/div[2]/div[1]/div/h4')\n",
    "        ht1=h_t1.text\n",
    "        sheet.write(i, 0, str(ht1))\n",
    "        i=i+2\n",
    "\n",
    "        headers=['Table of','GST NO','Financial Year', 'Tax Period','Date of filing','Status','Empliance Check']\n",
    "        sheet.write(i, 0, headers[0])\n",
    "        sheet.write(i, 1, headers[1])\n",
    "        sheet.write(i, 2, headers[2])\n",
    "        sheet.write(i, 3, headers[3])\n",
    "        sheet.write(i, 4, headers[4])\n",
    "        sheet.write(i, 5, headers[5])\n",
    "        sheet.write(i, 6, headers[6])\n",
    "        i=i+1\n",
    "\n",
    "        rows=t_text1.split('\\n')\n",
    "        for elem in rows:\n",
    "            row=elem.split(' ')\n",
    "            sheet1.write(i, 0, \"GSTR3B\")\n",
    "            sheet1.write(i, 1, GST)\n",
    "            sheet1.write(i, 2, row[0])\n",
    "            sheet1.write(i, 3, row[1])\n",
    "            sheet1.write(i, 4, row[2])\n",
    "            sheet1.write(i, 5, row[3])\n",
    "            m_vale=Dict1[row[1]]\n",
    "            date_time_str=row[2]\n",
    "            t_date = datetime.strptime(date_time_str, '%d/%m/%Y')\n",
    "            v_date=datetime.strptime(m_vale, '%d/%m/%Y')\n",
    "            if v_date < t_date:\n",
    "                sheet1.write(i, 6, \"Delayed\")\n",
    "                sheet2.write(l, 6, \"Delayed\")\n",
    "                sheet2.write(l, 0, \"GSTR3B\")\n",
    "                sheet2.write(l, 1, GST)\n",
    "                sheet2.write(l, 2, row[0])\n",
    "                sheet2.write(l, 3, row[1])\n",
    "                sheet2.write(l, 4, row[2])\n",
    "                sheet2.write(l, 5, row[3])\n",
    "                l=l+1\n",
    "\n",
    "            else:\n",
    "                sheet1.write(i, 6, \"On Time\")\n",
    "            i=i+1\n",
    "        i=i+1\n",
    "\n",
    "        print('Table data written in excel')\n",
    "\n",
    "\n",
    "    except:\n",
    "        print('Table of GSTR3B does not exist for the given GST number')\n",
    "\n",
    "    try:\n",
    "        table2=wd.find_element_by_xpath('//*[@id=\"lottable\"]/div[7]/div[2]/div[2]/div/table/tbody')\n",
    "        print('Table of GSTR-1/IFF exist for the given GST number')\n",
    "        t_text2=table2.text\n",
    "        h_t2=wd.find_element_by_xpath('//*[@id=\"lottable\"]/div[7]/div[2]/div[2]/div/h4')\n",
    "        ht2=h_t2.text\n",
    "\n",
    "        sheet1.write(i, 0, str(ht2))\n",
    "        i=i+2\n",
    "        headers=['Table of','GST NO','Financial Year', 'Tax Period','Date of filing','Status','Empliance Check']\n",
    "        sheet1.write(i, 0, headers[0])\n",
    "        sheet1.write(i, 1, headers[1])\n",
    "        sheet1.write(i, 2, headers[2])\n",
    "        sheet1.write(i, 3, headers[3])\n",
    "        sheet1.write(i, 4, headers[4])\n",
    "        sheet1.write(i, 5, headers[5])\n",
    "        sheet1.write(i, 6, headers[6])\n",
    "        i=i+1\n",
    "\n",
    "        rows=t_text2.split('\\n')\n",
    "        for elem in rows:\n",
    "            row=elem.split(' ')\n",
    "            sheet1.write(i, 0, \"GSTR-1/IFF\")\n",
    "            sheet1.write(i, 1, GST)\n",
    "            sheet1.write(i, 2, row[0])\n",
    "            sheet1.write(i, 3, row[1])\n",
    "            sheet1.write(i, 4, row[2])\n",
    "            sheet1.write(i, 5, row[3])\n",
    "            m_vale=Dict2[row[1]]\n",
    "            date_time_str=row[2]\n",
    "            t_date = datetime.strptime(date_time_str, '%d/%m/%Y')\n",
    "            v_date=datetime.strptime(m_vale, '%d/%m/%Y')\n",
    "            if v_date < t_date:\n",
    "                sheet1.write(i, 6, \"Delayed\")\n",
    "                sheet2.write(l, 6, \"Delayed\")\n",
    "                sheet2.write(l, 0, \"GSTR-1/IFF\")\n",
    "                sheet2.write(l, 1, GST)\n",
    "                sheet2.write(l, 2, row[0])\n",
    "                sheet2.write(l, 3, row[1])\n",
    "                sheet2.write(l, 4, row[2])\n",
    "                sheet2.write(l, 5, row[3])\n",
    "                l=l+1\n",
    "            else:\n",
    "                sheet1.write(i, 6, \"On Time\")\n",
    "            i=i+1\n",
    "\n",
    "        i=i+1\n",
    "        print('Table data written in excel')\n",
    "\n",
    "    except:\n",
    "        print('Table of GSTR-1/IFF does not exist for the given GST number')\n",
    "\n",
    "# =============================================\n",
    "\n",
    "    try:\n",
    "\n",
    "        table3=wd.find_element_by_xpath('//*[@id=\"lottable\"]/div[7]/div[2]/div[3]/div/table/tbody')\n",
    "        t_text3=table3.text\n",
    "        print('Table of GSTR9 exist for the given GST number')\n",
    "\n",
    "        h_t3=wd.find_element_by_xpath('//*[@id=\"lottable\"]/div[7]/div[2]/div[3]/div/h4')\n",
    "        ht3=h_t3.text\n",
    "\n",
    "        sheet1.write(i, 0, str(ht3))\n",
    "        i=i+2\n",
    "        headers=['Table of','GST NO','Financial Year', 'Tax Period','Date of filing','Status','Empliance Check']\n",
    "        sheet1.write(i, 0, headers[0])\n",
    "        sheet1.write(i, 1, headers[1])\n",
    "        sheet1.write(i, 2, headers[2])\n",
    "        sheet1.write(i, 3, headers[3])\n",
    "        sheet1.write(i, 4, headers[4])\n",
    "        sheet1.write(i, 5, headers[5])\n",
    "        sheet1.write(i, 6, headers[6])\n",
    "        i=i+1\n",
    "        print('heading inserted')\n",
    "\n",
    "        rows=t_text3.split('\\n')\n",
    "        for elem in rows:\n",
    "            row=elem.split(' ')\n",
    "            sheet1.write(i, 0, \"GSTR9\")\n",
    "            sheet1.write(i, 1, GST)\n",
    "            sheet1.write(i, 2, row[0])\n",
    "            sheet1.write(i, 3, row[1])\n",
    "            sheet1.write(i, 4, row[2])\n",
    "            sheet1.write(i, 5, row[3])\n",
    "            print('Data inserted')\n",
    "            m_vale=Dict3[row[0]]\n",
    "            date_time_str=row[2]\n",
    "            print('Data checked')\n",
    "            t_date = datetime.strptime(date_time_str, '%d/%m/%Y')\n",
    "            v_date=datetime.strptime(m_vale, '%d/%m/%Y')\n",
    "            print('date fomats set')\n",
    "            if v_date < t_date:\n",
    "                sheet1.write(i, 6, \"Delayed\")\n",
    "                sheet2.write(l, 6, \"Delayed\")\n",
    "                sheet2.write(l, 0, \"GSTR9\")\n",
    "                sheet2.write(l, 1, GST)\n",
    "                sheet2.write(l, 2, row[0])\n",
    "                sheet2.write(l, 3, row[1])\n",
    "                sheet2.write(l, 4, row[2])\n",
    "                sheet2.write(l, 5, row[3])\n",
    "                l=l+1\n",
    "                print('delayed entry made')\n",
    "            else:\n",
    "                sheet1.write(i, 6, \"On Time\")\n",
    "                print('On Time entry made')\n",
    "            i=i+1\n",
    "\n",
    "        i=i+1\n",
    "        print('Table data written in excel')\n",
    "\n",
    "    except:\n",
    "        print('Table of GSTR9 does not exist for the given GST number')\n",
    "\n",
    "# ==========================================\n",
    "\n",
    "    try:\n",
    "        table4=wd.find_element_by_xpath('//*[@id=\"lottable\"]/div[7]/div[2]/div[4]/div/table/tbody')\n",
    "        t_text4=table4.text\n",
    "        print('Table of GSTR9C exist for the given GST number')\n",
    "\n",
    "        h_t4=wd.find_element_by_xpath('//*[@id=\"lottable\"]/div[7]/div[2]/div[4]/div/h4')\n",
    "        ht4=h_t4.text\n",
    "\n",
    "\n",
    "        sheet1.write(i, 0, str(ht4))\n",
    "        i=i+2\n",
    "        headers=['Table of','GST NO','Financial Year', 'Tax Period','Date of filing','Status','Empliance Check']\n",
    "        sheet1.write(i, 0, headers[0])\n",
    "        sheet1.write(i, 1, headers[1])\n",
    "        sheet1.write(i, 2, headers[2])\n",
    "        sheet1.write(i, 3, headers[3])\n",
    "        sheet1.write(i, 4, headers[4])\n",
    "        sheet1.write(i, 5, headers[5])\n",
    "        sheet1.write(i, 6, headers[6])\n",
    "        i=i+1\n",
    "\n",
    "        rows=t_text4.split('\\n')\n",
    "        for elem in rows:\n",
    "            row=elem.split(' ')\n",
    "            sheet1.write(i, 0, \"GSTR9C\")\n",
    "            sheet1.write(i, 1, GST)\n",
    "            sheet1.write(i, 2, row[0])\n",
    "            sheet1.write(i, 3, row[1])\n",
    "            sheet1.write(i, 4, row[2])\n",
    "            sheet1.write(i, 5, row[3])\n",
    "            m_vale=Dict3[row[0]]\n",
    "            date_time_str=row[2]\n",
    "            t_date = datetime.strptime(date_time_str, '%d/%m/%Y')\n",
    "            v_date=datetime.strptime(m_vale, '%d/%m/%Y')\n",
    "            if v_date < t_date:\n",
    "                sheet1.write(i, 6, \"Delayed\")\n",
    "                sheet2.write(l, 6, \"Delayed\")\n",
    "                sheet2.write(l, 0, \"GSTR9C\")\n",
    "                sheet2.write(l, 1, GST)\n",
    "                sheet2.write(l, 2, row[0])\n",
    "                sheet2.write(l, 3, row[1])\n",
    "                sheet2.write(l, 4, row[2])\n",
    "                sheet2.write(l, 5, row[3])\n",
    "                l=l+1\n",
    "\n",
    "            else:\n",
    "                sheet1.write(i, 6, \"On Time\")\n",
    "            i=i+1\n",
    "\n",
    "        i=i+1\n",
    "        print('Table data written in excel')\n",
    "\n",
    "    except:\n",
    "        print('Table of GSTR9C does not exist for the given GST number')\n",
    "\n",
    "\n",
    "\n",
    "\n",
    "\n",
    "\n",
    "print(\"extraction is complete\")\n",
    "\n",
    "wb.save(str(pan)+'.xls')\n"
   ]
  },
  {
   "cell_type": "markdown",
   "metadata": {},
   "source": []
  }
 ],
 "metadata": {
  "kernelspec": {
   "display_name": "Python 3",
   "language": "python",
   "name": "python3"
  },
  "language_info": {
   "codemirror_mode": {
    "name": "ipython",
    "version": 3
   },
   "file_extension": ".py",
   "mimetype": "text/x-python",
   "name": "python",
   "nbconvert_exporter": "python",
   "pygments_lexer": "ipython3",
   "version": "3.7.5"
  },
  "vscode": {
   "interpreter": {
    "hash": "7b9bf3d753fefe854781e52229fcc2b6d37fd5cec0eed166290fc2ac2cd3389d"
   }
  }
 },
 "nbformat": 4,
 "nbformat_minor": 4
}
